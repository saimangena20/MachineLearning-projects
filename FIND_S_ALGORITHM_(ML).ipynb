{
  "nbformat": 4,
  "nbformat_minor": 0,
  "metadata": {
    "colab": {
      "provenance": [],
      "authorship_tag": "ABX9TyPh5/jP/XQgHZNGIMdwyAt6",
      "include_colab_link": true
    },
    "kernelspec": {
      "name": "python3",
      "display_name": "Python 3"
    },
    "language_info": {
      "name": "python"
    }
  },
  "cells": [
    {
      "cell_type": "markdown",
      "metadata": {
        "id": "view-in-github",
        "colab_type": "text"
      },
      "source": [
        "<a href=\"https://colab.research.google.com/github/saimangena20/MachineLearning-projects/blob/main/FIND_S_ALGORITHM_(ML).ipynb\" target=\"_parent\"><img src=\"https://colab.research.google.com/assets/colab-badge.svg\" alt=\"Open In Colab\"/></a>"
      ]
    },
    {
      "cell_type": "markdown",
      "source": [
        "# **Find s algorithm**"
      ],
      "metadata": {
        "id": "R9ZOR21tdVpM"
      }
    },
    {
      "cell_type": "code",
      "execution_count": null,
      "metadata": {
        "colab": {
          "base_uri": "https://localhost:8080/"
        },
        "id": "fC-9NFhaW0VF",
        "outputId": "970ba36d-1fc5-462d-91bc-f2b363eccab6"
      },
      "outputs": [
        {
          "output_type": "stream",
          "name": "stdout",
          "text": [
            "['sky', 'airtemp', 'humdity', 'wind', 'water', 'forecast', 'enjoysport']\n",
            "['sunny', 'warm', 'normal', 'strong', 'warm', 'same', 'yes']\n",
            "['sunny', 'warm', 'high', 'strong', 'warm', 'same', 'yes']\n",
            "['rainy', 'cold', 'high', 'strong', 'warm', 'change', 'no']\n",
            "['sunny', 'warm', 'high', 'strong', 'cool', 'change', 'yes']\n",
            "Most specific hypothesis is\n",
            "[['sunny', 'warm', '?', 'strong', '?', '?']]\n"
          ]
        }
      ],
      "source": [
        "import csv\n",
        "with open('/content/findsalg.csv', 'r') as f:\n",
        "    reader = csv.reader(f)\n",
        "    your_list = list(reader)\n",
        "h = [['0', '0', '0', '0', '0', '0']]\n",
        "for i in your_list:\n",
        "  print(i)\n",
        "  if i[-1] == \"yes\":\n",
        "   j = 0\n",
        "   for x in i:\n",
        "      if x != \"yes\":\n",
        "        if x != h[0][j] and h[0][j]== '0':\n",
        "            h[0][j]=x\n",
        "        elif x!=h[0][j] and h[0][j]!= '0':\n",
        "            h[0][j]='?'\n",
        "        else:\n",
        "          pass\n",
        "      j = j + 1\n",
        "print(\"Most specific hypothesis is\")\n",
        "print(h)"
      ]
    }
  ]
}